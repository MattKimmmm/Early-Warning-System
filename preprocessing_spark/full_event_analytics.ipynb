{
 "cells": [
  {
   "cell_type": "code",
   "execution_count": 3,
   "metadata": {},
   "outputs": [],
   "source": [
    "from utils import read_csv_spark, df_analytics, write_csv_spark\n",
    "from pyspark.sql import SparkSession\n",
    "from pyspark.sql.functions import col, udf, sum as spark_sum, count, avg, min, max\n",
    "from pyspark.sql.types import StructType, StructField, IntegerType, FloatType, DoubleType, BooleanType\n",
    "\n",
    "spark = SparkSession.builder.appName('deteriorations').getOrCreate()"
   ]
  },
  {
   "cell_type": "code",
   "execution_count": 2,
   "metadata": {},
   "outputs": [
    {
     "name": "stderr",
     "output_type": "stream",
     "text": [
      "Setting default log level to \"WARN\".\n",
      "To adjust logging level use sc.setLogLevel(newLevel). For SparkR, use setLogLevel(newLevel).\n",
      "24/07/11 18:42:47 WARN NativeCodeLoader: Unable to load native-hadoop library for your platform... using builtin-java classes where applicable\n",
      "24/07/11 18:42:49 WARN Utils: Service 'SparkUI' could not bind on port 4040. Attempting port 4041.\n",
      "24/07/11 18:42:49 WARN Utils: Service 'SparkUI' could not bind on port 4041. Attempting port 4042.\n",
      "                                                                                \r"
     ]
    },
    {
     "name": "stdout",
     "output_type": "stream",
     "text": [
      "events_concat.csv:\n",
      "+----------+------+-------------------+-------------+--------+--------+--------+----------+\n",
      "|SUBJECT_ID|ITEMID|          CHARTTIME|        VALUE|VALUENUM|VALUEUOM|    FLAG|EVENT_TYPE|\n",
      "+----------+------+-------------------+-------------+--------+--------+--------+----------+\n",
      "|         3| 50820|2101-10-12 16:07:00|         7.39|    7.39|   units|    NULL|       lab|\n",
      "|         3| 50800|2101-10-12 18:17:00|          ART|    NULL|    NULL|    NULL|       lab|\n",
      "|         3| 50802|2101-10-12 18:17:00|           -1|      -1|   mEq/L|    NULL|       lab|\n",
      "|         3| 50804|2101-10-12 18:17:00|           22|      22|   mEq/L|    NULL|       lab|\n",
      "|         3| 50808|2101-10-12 18:17:00|         0.93|     .93|  mmol/L|abnormal|       lab|\n",
      "|         3| 50812|2101-10-12 18:17:00|NOT INTUBATED|    NULL|    NULL|    NULL|       lab|\n",
      "|         3| 50813|2101-10-12 18:17:00|          1.8|     1.8|  mmol/L|    NULL|       lab|\n",
      "|         3| 50818|2101-10-12 18:17:00|           33|      33|   mm Hg|    NULL|       lab|\n",
      "|         3| 50820|2101-10-12 18:17:00|         7.42|    7.42|   units|    NULL|       lab|\n",
      "|         3| 50821|2101-10-12 18:17:00|           80|      80|   mm Hg|    NULL|       lab|\n",
      "|         3| 50825|2101-10-12 18:17:00|         35.8|    35.8|    NULL|    NULL|       lab|\n",
      "|         3| 50868|2101-10-13 03:00:00|           13|      13|   mEq/L|    NULL|       lab|\n",
      "|         3| 50882|2101-10-13 03:00:00|           23|      23|   mEq/L|    NULL|       lab|\n",
      "|         3| 50893|2101-10-13 03:00:00|          8.4|     8.4|   mg/dL|    NULL|       lab|\n",
      "|         3| 50902|2101-10-13 03:00:00|          109|     109|   mEq/L|    NULL|       lab|\n",
      "|         3| 50912|2101-10-13 03:00:00|          1.7|     1.7|   mg/dL|abnormal|       lab|\n",
      "|         3| 50931|2101-10-13 03:00:00|          137|     137|   mg/dL|abnormal|       lab|\n",
      "|         3| 50960|2101-10-13 03:00:00|          1.8|     1.8|   mg/dL|    NULL|       lab|\n",
      "|         3| 50970|2101-10-13 03:00:00|          3.7|     3.7|   mg/dL|    NULL|       lab|\n",
      "|         3| 50971|2101-10-13 03:00:00|          4.3|     4.3|   mEq/L|    NULL|       lab|\n",
      "+----------+------+-------------------+-------------+--------+--------+--------+----------+\n",
      "only showing top 20 rows\n",
      "\n",
      "None\n",
      "DataFrame[summary: string, SUBJECT_ID: string, ITEMID: string, VALUE: string, VALUENUM: string, VALUEUOM: string, FLAG: string, EVENT_TYPE: string]\n"
     ]
    },
    {
     "name": "stderr",
     "output_type": "stream",
     "text": [
      "                                                                                \r"
     ]
    },
    {
     "name": "stdout",
     "output_type": "stream",
     "text": [
      "362915756 X 8\n",
      "\n",
      "For df events_concat:\n",
      "+----------+------+-------------------+-------------+--------+--------+--------+----------+\n",
      "|SUBJECT_ID|ITEMID|          CHARTTIME|        VALUE|VALUENUM|VALUEUOM|    FLAG|EVENT_TYPE|\n",
      "+----------+------+-------------------+-------------+--------+--------+--------+----------+\n",
      "|         3| 50820|2101-10-12 16:07:00|         7.39|    7.39|   units|    NULL|       lab|\n",
      "|         3| 50800|2101-10-12 18:17:00|          ART|    NULL|    NULL|    NULL|       lab|\n",
      "|         3| 50802|2101-10-12 18:17:00|           -1|      -1|   mEq/L|    NULL|       lab|\n",
      "|         3| 50804|2101-10-12 18:17:00|           22|      22|   mEq/L|    NULL|       lab|\n",
      "|         3| 50808|2101-10-12 18:17:00|         0.93|     .93|  mmol/L|abnormal|       lab|\n",
      "|         3| 50812|2101-10-12 18:17:00|NOT INTUBATED|    NULL|    NULL|    NULL|       lab|\n",
      "|         3| 50813|2101-10-12 18:17:00|          1.8|     1.8|  mmol/L|    NULL|       lab|\n",
      "|         3| 50818|2101-10-12 18:17:00|           33|      33|   mm Hg|    NULL|       lab|\n",
      "|         3| 50820|2101-10-12 18:17:00|         7.42|    7.42|   units|    NULL|       lab|\n",
      "|         3| 50821|2101-10-12 18:17:00|           80|      80|   mm Hg|    NULL|       lab|\n",
      "|         3| 50825|2101-10-12 18:17:00|         35.8|    35.8|    NULL|    NULL|       lab|\n",
      "|         3| 50868|2101-10-13 03:00:00|           13|      13|   mEq/L|    NULL|       lab|\n",
      "|         3| 50882|2101-10-13 03:00:00|           23|      23|   mEq/L|    NULL|       lab|\n",
      "|         3| 50893|2101-10-13 03:00:00|          8.4|     8.4|   mg/dL|    NULL|       lab|\n",
      "|         3| 50902|2101-10-13 03:00:00|          109|     109|   mEq/L|    NULL|       lab|\n",
      "|         3| 50912|2101-10-13 03:00:00|          1.7|     1.7|   mg/dL|abnormal|       lab|\n",
      "|         3| 50931|2101-10-13 03:00:00|          137|     137|   mg/dL|abnormal|       lab|\n",
      "|         3| 50960|2101-10-13 03:00:00|          1.8|     1.8|   mg/dL|    NULL|       lab|\n",
      "|         3| 50970|2101-10-13 03:00:00|          3.7|     3.7|   mg/dL|    NULL|       lab|\n",
      "|         3| 50971|2101-10-13 03:00:00|          4.3|     4.3|   mEq/L|    NULL|       lab|\n",
      "+----------+------+-------------------+-------------+--------+--------+--------+----------+\n",
      "only showing top 20 rows\n",
      "\n",
      "None\n"
     ]
    },
    {
     "name": "stderr",
     "output_type": "stream",
     "text": [
      "24/07/11 18:50:43 WARN SparkStringUtils: Truncated the string representation of a plan since it was too large. This behavior can be adjusted by setting 'spark.sql.debug.maxToStringFields'.\n",
      "                                                                                \r"
     ]
    },
    {
     "name": "stdout",
     "output_type": "stream",
     "text": [
      "+-------+------------------+------------------+------------------+--------------------+---------+---------+----------+\n",
      "|summary|        SUBJECT_ID|            ITEMID|             VALUE|            VALUENUM| VALUEUOM|     FLAG|EVENT_TYPE|\n",
      "+-------+------------------+------------------+------------------+--------------------+---------+---------+----------+\n",
      "|  count|         362915756|         362915756|         360753051|           175786222|145680415|344905868| 362915756|\n",
      "|   mean| 31334.91656933462|  74158.1979291001| 78.73736456820652|   70.99966761517543|     NULL|     NULL|      NULL|\n",
      "| stddev|27031.504199489762|100380.41036958448|2910.2378036451596|   2793.820985714249|     NULL|     NULL|      NULL|\n",
      "|    min|                 2|                 1|                 !|                 -.1|        #|     NULL|     chart|\n",
      "|    25%|             11102|               617|               9.0|                 5.0|     NULL|     NULL|      NULL|\n",
      "|    50%|             22588|              5813|              40.0|                33.0|     NULL|     NULL|      NULL|\n",
      "|    75%|             47448|            220293|              97.0|                93.0|     NULL|     NULL|      NULL|\n",
      "|    max|             99999|            228451|              ~150|DILUTION AVAILABL...|    years|    ng/ml|    output|\n",
      "+-------+------------------+------------------+------------------+--------------------+---------+---------+----------+\n",
      "\n",
      "None\n"
     ]
    },
    {
     "name": "stderr",
     "output_type": "stream",
     "text": [
      "[Stage 11:=====================================================>(278 + 2) / 280]\r"
     ]
    },
    {
     "name": "stdout",
     "output_type": "stream",
     "text": [
      "362915756 X 8\n",
      "\n"
     ]
    },
    {
     "name": "stderr",
     "output_type": "stream",
     "text": [
      "                                                                                \r"
     ]
    }
   ],
   "source": [
    "spark = SparkSession.builder.appName('deteriorations').getOrCreate()\n",
    "events_concat = read_csv_spark('../data/processed/events_concat.csv', spark)\n",
    "df_analytics(events_concat, 'events_concat')"
   ]
  },
  {
   "cell_type": "code",
   "execution_count": 5,
   "metadata": {},
   "outputs": [],
   "source": [
    "# Helper function to determin if the value is numerical or not\n",
    "def is_numerical_udf(value):\n",
    "    if value is None:\n",
    "        return False\n",
    "    try:\n",
    "        float(value)\n",
    "        return True\n",
    "    except ValueError:\n",
    "        return False\n",
    "\n",
    "is_numerical = udf(is_numerical_udf, BooleanType())"
   ]
  },
  {
   "cell_type": "code",
   "execution_count": 6,
   "metadata": {},
   "outputs": [
    {
     "name": "stdout",
     "output_type": "stream",
     "text": [
      "For df events_concat_aggregated:\n"
     ]
    },
    {
     "name": "stderr",
     "output_type": "stream",
     "text": [
      "[Stage 15:>                                                       (0 + 8) / 280]\r"
     ]
    },
    {
     "name": "stderr",
     "output_type": "stream",
     "text": [
      "                                                                                \r"
     ]
    },
    {
     "name": "stdout",
     "output_type": "stream",
     "text": [
      "+------+-----------+----------+-------------------+\n",
      "|ITEMID|NUM_NUMERIC|NUM_STRING|              RATIO|\n",
      "+------+-----------+----------+-------------------+\n",
      "| 51123|        461|         0|                1.0|\n",
      "| 51415|          0|        22|                0.0|\n",
      "| 51393|          0|        21|                0.0|\n",
      "| 50954|     107114|         6| 0.9999439880507842|\n",
      "| 51388|          0|       384|                0.0|\n",
      "| 51454|         83|         0|                1.0|\n",
      "| 51433|         46|         0|                1.0|\n",
      "| 51142|          0|        16|                0.0|\n",
      "| 51243|          0|       554|                0.0|\n",
      "| 51022|         52|         1| 0.9811320754716981|\n",
      "| 50847|         48|         0|                1.0|\n",
      "| 50803|       9242|         4| 0.9995673804888601|\n",
      "| 51086|          0|       791|                0.0|\n",
      "| 50963|       6780|       163| 0.9765231168082962|\n",
      "| 51455|       2612|         0|                1.0|\n",
      "| 51514|      25116|     76701|0.24667786322519816|\n",
      "| 51127|       3280|         0|                1.0|\n",
      "| 51350|          0|        15|                0.0|\n",
      "| 51156|          0|        76|                0.0|\n",
      "| 51214|      45861|        74| 0.9983890279743115|\n",
      "+------+-----------+----------+-------------------+\n",
      "only showing top 20 rows\n",
      "\n",
      "None\n"
     ]
    },
    {
     "name": "stderr",
     "output_type": "stream",
     "text": [
      "                                                                                \r"
     ]
    },
    {
     "name": "stdout",
     "output_type": "stream",
     "text": [
      "+-------+------------------+------------------+------------------+-------------------+\n",
      "|summary|            ITEMID|       NUM_NUMERIC|        NUM_STRING|              RATIO|\n",
      "+-------+------------------+------------------+------------------+-------------------+\n",
      "|  count|              8344|              8344|              8344|               8344|\n",
      "|   mean|56748.839046021094|19719.294343240654|23774.923777564716| 0.4913245404263566|\n",
      "| stddev| 85260.12830051231| 152156.6984384926|130248.55730370566|0.48525406877997646|\n",
      "|    min|                 1|                 0|                 0|                0.0|\n",
      "|    25%|              3120|                 0|                 0|                0.0|\n",
      "|    50%|              7021|                 1|                10|                0.5|\n",
      "|    75%|             51081|                42|               319|                1.0|\n",
      "|    max|            228451|           5161489|           3303151|                1.0|\n",
      "+-------+------------------+------------------+------------------+-------------------+\n",
      "\n",
      "None\n"
     ]
    },
    {
     "name": "stderr",
     "output_type": "stream",
     "text": [
      "[Stage 24:=====================================================>(279 + 1) / 280]\r"
     ]
    },
    {
     "name": "stdout",
     "output_type": "stream",
     "text": [
      "8344 X 4\n",
      "\n"
     ]
    },
    {
     "name": "stderr",
     "output_type": "stream",
     "text": [
      "                                                                                \r"
     ]
    }
   ],
   "source": [
    "# add column \"is_numerical\" using the UDF\n",
    "events_concat = events_concat.withColumn('IS_NUMERIC', is_numerical(col('VALUE')))\n",
    "\n",
    "# aggregate counts of numerical values and add them as new columns\n",
    "events_concat_aggregated = events_concat.groupBy('ITEMID').agg(\n",
    "    spark_sum(col('IS_NUMERIC').cast('int')).alias('NUM_NUMERIC'),\n",
    "    (count(col('IS_NUMERIC')) - spark_sum(col('IS_NUMERIC').cast('int'))).alias('NUM_STRING')\n",
    ")\n",
    "\n",
    "# create ratio column as well - NUM_NUMERIC / (NUM_NUMERIC + NUM_STRING)\n",
    "events_concat_aggregated = events_concat_aggregated.withColumn('RATIO', col('NUM_NUMERIC') / (col('NUM_NUMERIC') + col('NUM_STRING')))\n",
    "\n",
    "df_analytics(events_concat_aggregated, 'events_concat_aggregated')"
   ]
  },
  {
   "cell_type": "code",
   "execution_count": 7,
   "metadata": {},
   "outputs": [
    {
     "name": "stderr",
     "output_type": "stream",
     "text": [
      "                                                                                \r"
     ]
    }
   ],
   "source": [
    "write_csv_spark(events_concat_aggregated, '../data/processed/events_is_numeric')"
   ]
  },
  {
   "cell_type": "code",
   "execution_count": 5,
   "metadata": {},
   "outputs": [
    {
     "name": "stdout",
     "output_type": "stream",
     "text": [
      "events_is_numeric:\n",
      "+------+-----------+----------+-------------------+\n",
      "|ITEMID|NUM_NUMERIC|NUM_STRING|              RATIO|\n",
      "+------+-----------+----------+-------------------+\n",
      "| 51222|     752277|       167| 0.9997780565729808|\n",
      "| 51351|       4732|         0|                1.0|\n",
      "| 50810|      89713|         2|   0.99997770718386|\n",
      "| 51005|        590|         2| 0.9966216216216216|\n",
      "| 51101|        150|         0|                1.0|\n",
      "| 51310|          0|        99|                0.0|\n",
      "| 51479|       2782|      3763|0.42505729564553096|\n",
      "| 51438|       1366|         2| 0.9985380116959064|\n",
      "| 51481|          0|       157|                0.0|\n",
      "| 51434|        546|         0|                1.0|\n",
      "| 51183|          0|       256|                0.0|\n",
      "| 51401|          0|         9|                0.0|\n",
      "| 51097|      10852|        79| 0.9927728478638734|\n",
      "| 50953|      17229|         0|                1.0|\n",
      "| 51034|        468|         0|                1.0|\n",
      "| 51081|        150|         0|                1.0|\n",
      "| 50806|      48180|         8| 0.9998339835643729|\n",
      "| 50904|      18256|         4| 0.9997809419496166|\n",
      "| 51302|        149|         0|                1.0|\n",
      "| 50914|       8565|       212|  0.975845961034522|\n",
      "+------+-----------+----------+-------------------+\n",
      "only showing top 20 rows\n",
      "\n",
      "None\n",
      "DataFrame[summary: string, ITEMID: string, NUM_NUMERIC: string, NUM_STRING: string, RATIO: string]\n",
      "8344 X 4\n",
      "\n",
      "For df events_is_numeric:\n",
      "+------+-----------+----------+-------------------+\n",
      "|ITEMID|NUM_NUMERIC|NUM_STRING|              RATIO|\n",
      "+------+-----------+----------+-------------------+\n",
      "| 51222|     752277|       167| 0.9997780565729808|\n",
      "| 51351|       4732|         0|                1.0|\n",
      "| 50810|      89713|         2|   0.99997770718386|\n",
      "| 51005|        590|         2| 0.9966216216216216|\n",
      "| 51101|        150|         0|                1.0|\n",
      "| 51310|          0|        99|                0.0|\n",
      "| 51479|       2782|      3763|0.42505729564553096|\n",
      "| 51438|       1366|         2| 0.9985380116959064|\n",
      "| 51481|          0|       157|                0.0|\n",
      "| 51434|        546|         0|                1.0|\n",
      "| 51183|          0|       256|                0.0|\n",
      "| 51401|          0|         9|                0.0|\n",
      "| 51097|      10852|        79| 0.9927728478638734|\n",
      "| 50953|      17229|         0|                1.0|\n",
      "| 51034|        468|         0|                1.0|\n",
      "| 51081|        150|         0|                1.0|\n",
      "| 50806|      48180|         8| 0.9998339835643729|\n",
      "| 50904|      18256|         4| 0.9997809419496166|\n",
      "| 51302|        149|         0|                1.0|\n",
      "| 50914|       8565|       212|  0.975845961034522|\n",
      "+------+-----------+----------+-------------------+\n",
      "only showing top 20 rows\n",
      "\n",
      "None\n"
     ]
    },
    {
     "name": "stderr",
     "output_type": "stream",
     "text": [
      "24/07/12 17:02:04 WARN SparkStringUtils: Truncated the string representation of a plan since it was too large. This behavior can be adjusted by setting 'spark.sql.debug.maxToStringFields'.\n",
      "                                                                                \r"
     ]
    },
    {
     "name": "stdout",
     "output_type": "stream",
     "text": [
      "+-------+------------------+------------------+------------------+-------------------+\n",
      "|summary|            ITEMID|       NUM_NUMERIC|        NUM_STRING|              RATIO|\n",
      "+-------+------------------+------------------+------------------+-------------------+\n",
      "|  count|              8344|              8344|              8344|               8344|\n",
      "|   mean|56748.839046021094|19719.294343240654|23774.923777564716| 0.4913245404263565|\n",
      "| stddev| 85260.12830051231| 152156.6984384926|130248.55730370567|0.48525406877997646|\n",
      "|    min|                 1|                 0|                 0|                0.0|\n",
      "|    25%|              3120|                 0|                 0|                0.0|\n",
      "|    50%|              7021|                 1|                10|                0.5|\n",
      "|    75%|             51081|                42|               319|                1.0|\n",
      "|    max|            228451|           5161489|           3303151|                1.0|\n",
      "+-------+------------------+------------------+------------------+-------------------+\n",
      "\n",
      "None\n",
      "8344 X 4\n",
      "\n"
     ]
    }
   ],
   "source": [
    "events_is_numeric = read_csv_spark('../data/processed/events_is_numeric', spark)\n",
    "df_analytics(events_is_numeric, \"events_is_numeric\")"
   ]
  },
  {
   "cell_type": "code",
   "execution_count": 13,
   "metadata": {},
   "outputs": [
    {
     "name": "stdout",
     "output_type": "stream",
     "text": [
      "count_total: 8344\n",
      "count_ratio_1: 2846\n",
      "count_ratio_0: 3919\n",
      "count_ratio_ge_09 3787\n",
      "count_Ratio_ge_05 4194\n",
      "count_ratio_le_01 4023\n",
      "count_ratio_ge_05_le_09 407\n"
     ]
    }
   ],
   "source": [
    "# get events counts associated with numerical value entry ratio\n",
    "count_total = events_is_numeric.count()\n",
    "count_ratio_1 = events_is_numeric.filter(col('RATIO') == 1).count()\n",
    "count_ratio_0 = events_is_numeric.filter(col('RATIO') == 0).count()\n",
    "print(f\"count_total: {count_total}\")\n",
    "print(f\"count_ratio_1: {count_ratio_1}\")\n",
    "print(f\"count_ratio_0: {count_ratio_0}\")\n",
    "\n",
    "count_ratio_ge_09 = events_is_numeric.filter(col('RATIO') >= 0.9).count()\n",
    "count_Ratio_ge_05 = events_is_numeric.filter(col('RATIO') >= 0.5).count()\n",
    "count_ratio_le_01 = events_is_numeric.filter(col('RATIO') < 0.1).count()\n",
    "count_ratio_ge_05_le_09 = events_is_numeric.filter((col('RATIO') >= 0.5) & (col('RATIO') < 0.9)).count()\n",
    "print(f\"count_ratio_ge_09\", count_ratio_ge_09)\n",
    "print(f\"count_Ratio_ge_05\", count_Ratio_ge_05)\n",
    "print(f'count_ratio_le_01', count_ratio_le_01)\n",
    "print(f\"count_ratio_ge_05_le_09\", count_ratio_ge_05_le_09)"
   ]
  },
  {
   "cell_type": "code",
   "execution_count": 2,
   "metadata": {},
   "outputs": [
    {
     "name": "stderr",
     "output_type": "stream",
     "text": [
      "                                                                                \r"
     ]
    },
    {
     "name": "stdout",
     "output_type": "stream",
     "text": [
      "all_events_string_df:\n",
      "+------+----------+-------------------+-----+--------+--------+----+----------+\n",
      "|ITEMID|SUBJECT_ID|          CHARTTIME|VALUE|VALUENUM|VALUEUOM|FLAG|EVENT_TYPE|\n",
      "+------+----------+-------------------+-----+--------+--------+----+----------+\n",
      "|   427|     11289|2180-12-08 00:00:00| Warm|    NULL|    NULL|NULL|     chart|\n",
      "|   427|     11289|2180-12-08 02:00:00| Warm|    NULL|    NULL|NULL|     chart|\n",
      "|   427|     11289|2180-12-08 04:00:00| Cool|    NULL|    NULL|NULL|     chart|\n",
      "|   427|     11289|2180-12-08 06:00:00| Warm|    NULL|    NULL|NULL|     chart|\n",
      "|   427|     11318|2124-10-29 09:00:00| Warm|    NULL|    NULL|NULL|     chart|\n",
      "|   427|     11318|2124-11-02 03:00:00| Cool|    NULL|    NULL|NULL|     chart|\n",
      "|   427|     11318|2124-10-29 19:00:00| Warm|    NULL|    NULL|NULL|     chart|\n",
      "|   427|     11305|2116-06-10 11:00:00| Warm|    NULL|    NULL|NULL|     chart|\n",
      "|   427|     11305|2116-06-10 15:00:00| Warm|    NULL|    NULL|NULL|     chart|\n",
      "|   427|     11318|2124-11-02 07:00:00| Cool|    NULL|    NULL|NULL|     chart|\n",
      "|   427|     11318|2124-10-28 05:00:00| Cool|    NULL|    NULL|NULL|     chart|\n",
      "|   427|     11318|2124-10-28 07:00:00| Cool|    NULL|    NULL|NULL|     chart|\n",
      "|   427|     11312|2183-11-17 08:00:00| Warm|    NULL|    NULL|NULL|     chart|\n",
      "|   427|     11312|2183-11-21 16:00:00| Warm|    NULL|    NULL|NULL|     chart|\n",
      "|   427|     11305|2116-06-10 07:00:00| Warm|    NULL|    NULL|NULL|     chart|\n",
      "|   427|     11318|2124-10-28 17:00:00| Warm|    NULL|    NULL|NULL|     chart|\n",
      "|   427|     11289|2180-12-07 16:00:00| Cool|    NULL|    NULL|NULL|     chart|\n",
      "|   427|     11289|2180-12-09 00:00:00| Warm|    NULL|    NULL|NULL|     chart|\n",
      "|   427|     11289|2180-12-09 02:00:00| Warm|    NULL|    NULL|NULL|     chart|\n",
      "|   427|     11289|2180-12-09 04:00:00| Warm|    NULL|    NULL|NULL|     chart|\n",
      "+------+----------+-------------------+-----+--------+--------+----+----------+\n",
      "only showing top 20 rows\n",
      "\n",
      "None\n",
      "DataFrame[summary: string, ITEMID: string, SUBJECT_ID: string, VALUE: string, VALUENUM: string, VALUEUOM: string, FLAG: string, EVENT_TYPE: string]\n"
     ]
    },
    {
     "name": "stderr",
     "output_type": "stream",
     "text": [
      "                                                                                \r"
     ]
    },
    {
     "name": "stdout",
     "output_type": "stream",
     "text": [
      "196374702 X 8\n",
      "\n",
      "For df all_events_string:\n",
      "+------+----------+-------------------+-----+--------+--------+----+----------+\n",
      "|ITEMID|SUBJECT_ID|          CHARTTIME|VALUE|VALUENUM|VALUEUOM|FLAG|EVENT_TYPE|\n",
      "+------+----------+-------------------+-----+--------+--------+----+----------+\n",
      "|   427|     11289|2180-12-08 00:00:00| Warm|    NULL|    NULL|NULL|     chart|\n",
      "|   427|     11289|2180-12-08 02:00:00| Warm|    NULL|    NULL|NULL|     chart|\n",
      "|   427|     11289|2180-12-08 04:00:00| Cool|    NULL|    NULL|NULL|     chart|\n",
      "|   427|     11289|2180-12-08 06:00:00| Warm|    NULL|    NULL|NULL|     chart|\n",
      "|   427|     11318|2124-10-29 09:00:00| Warm|    NULL|    NULL|NULL|     chart|\n",
      "|   427|     11318|2124-11-02 03:00:00| Cool|    NULL|    NULL|NULL|     chart|\n",
      "|   427|     11318|2124-10-29 19:00:00| Warm|    NULL|    NULL|NULL|     chart|\n",
      "|   427|     11305|2116-06-10 11:00:00| Warm|    NULL|    NULL|NULL|     chart|\n",
      "|   427|     11305|2116-06-10 15:00:00| Warm|    NULL|    NULL|NULL|     chart|\n",
      "|   427|     11318|2124-11-02 07:00:00| Cool|    NULL|    NULL|NULL|     chart|\n",
      "|   427|     11318|2124-10-28 05:00:00| Cool|    NULL|    NULL|NULL|     chart|\n",
      "|   427|     11318|2124-10-28 07:00:00| Cool|    NULL|    NULL|NULL|     chart|\n",
      "|   427|     11312|2183-11-17 08:00:00| Warm|    NULL|    NULL|NULL|     chart|\n",
      "|   427|     11312|2183-11-21 16:00:00| Warm|    NULL|    NULL|NULL|     chart|\n",
      "|   427|     11305|2116-06-10 07:00:00| Warm|    NULL|    NULL|NULL|     chart|\n",
      "|   427|     11318|2124-10-28 17:00:00| Warm|    NULL|    NULL|NULL|     chart|\n",
      "|   427|     11289|2180-12-07 16:00:00| Cool|    NULL|    NULL|NULL|     chart|\n",
      "|   427|     11289|2180-12-09 00:00:00| Warm|    NULL|    NULL|NULL|     chart|\n",
      "|   427|     11289|2180-12-09 02:00:00| Warm|    NULL|    NULL|NULL|     chart|\n",
      "|   427|     11289|2180-12-09 04:00:00| Warm|    NULL|    NULL|NULL|     chart|\n",
      "+------+----------+-------------------+-----+--------+--------+----+----------+\n",
      "only showing top 20 rows\n",
      "\n",
      "None\n"
     ]
    },
    {
     "name": "stderr",
     "output_type": "stream",
     "text": [
      "[Stage 8:=====================================================> (102 + 2) / 104]\r"
     ]
    },
    {
     "name": "stdout",
     "output_type": "stream",
     "text": [
      "196374702 X 8\n",
      "\n"
     ]
    },
    {
     "name": "stderr",
     "output_type": "stream",
     "text": [
      "                                                                                \r"
     ]
    }
   ],
   "source": [
    "# Analytics for all_events_string_df\n",
    "all_events_string = read_csv_spark('../data/processed/all_events_string_df', spark)\n",
    "df_analytics(all_events_string, 'all_events_string')"
   ]
  },
  {
   "cell_type": "code",
   "execution_count": 4,
   "metadata": {},
   "outputs": [],
   "source": [
    "# udf for word counting\n",
    "def count_words(value):\n",
    "    if value is None:\n",
    "        return 0\n",
    "    return len(value.split())\n"
   ]
  },
  {
   "cell_type": "code",
   "execution_count": 5,
   "metadata": {},
   "outputs": [
    {
     "name": "stdout",
     "output_type": "stream",
     "text": [
      "+------+----------+-------------------+-----+--------+--------+----+----------+----------+\n",
      "|ITEMID|SUBJECT_ID|          CHARTTIME|VALUE|VALUENUM|VALUEUOM|FLAG|EVENT_TYPE|WORD_COUNT|\n",
      "+------+----------+-------------------+-----+--------+--------+----+----------+----------+\n",
      "|   427|     11289|2180-12-08 00:00:00| Warm|    NULL|    NULL|NULL|     chart|         1|\n",
      "|   427|     11289|2180-12-08 02:00:00| Warm|    NULL|    NULL|NULL|     chart|         1|\n",
      "|   427|     11289|2180-12-08 04:00:00| Cool|    NULL|    NULL|NULL|     chart|         1|\n",
      "|   427|     11289|2180-12-08 06:00:00| Warm|    NULL|    NULL|NULL|     chart|         1|\n",
      "|   427|     11318|2124-10-29 09:00:00| Warm|    NULL|    NULL|NULL|     chart|         1|\n",
      "|   427|     11318|2124-11-02 03:00:00| Cool|    NULL|    NULL|NULL|     chart|         1|\n",
      "|   427|     11318|2124-10-29 19:00:00| Warm|    NULL|    NULL|NULL|     chart|         1|\n",
      "|   427|     11305|2116-06-10 11:00:00| Warm|    NULL|    NULL|NULL|     chart|         1|\n",
      "|   427|     11305|2116-06-10 15:00:00| Warm|    NULL|    NULL|NULL|     chart|         1|\n",
      "|   427|     11318|2124-11-02 07:00:00| Cool|    NULL|    NULL|NULL|     chart|         1|\n",
      "|   427|     11318|2124-10-28 05:00:00| Cool|    NULL|    NULL|NULL|     chart|         1|\n",
      "|   427|     11318|2124-10-28 07:00:00| Cool|    NULL|    NULL|NULL|     chart|         1|\n",
      "|   427|     11312|2183-11-17 08:00:00| Warm|    NULL|    NULL|NULL|     chart|         1|\n",
      "|   427|     11312|2183-11-21 16:00:00| Warm|    NULL|    NULL|NULL|     chart|         1|\n",
      "|   427|     11305|2116-06-10 07:00:00| Warm|    NULL|    NULL|NULL|     chart|         1|\n",
      "|   427|     11318|2124-10-28 17:00:00| Warm|    NULL|    NULL|NULL|     chart|         1|\n",
      "|   427|     11289|2180-12-07 16:00:00| Cool|    NULL|    NULL|NULL|     chart|         1|\n",
      "|   427|     11289|2180-12-09 00:00:00| Warm|    NULL|    NULL|NULL|     chart|         1|\n",
      "|   427|     11289|2180-12-09 02:00:00| Warm|    NULL|    NULL|NULL|     chart|         1|\n",
      "|   427|     11289|2180-12-09 04:00:00| Warm|    NULL|    NULL|NULL|     chart|         1|\n",
      "+------+----------+-------------------+-----+--------+--------+----+----------+----------+\n",
      "only showing top 20 rows\n",
      "\n"
     ]
    },
    {
     "name": "stderr",
     "output_type": "stream",
     "text": [
      "[Stage 12:====================================================> (101 + 3) / 104]\r"
     ]
    },
    {
     "name": "stdout",
     "output_type": "stream",
     "text": [
      "+----------+------------------+--------------+--------------+\n",
      "|total_rows|average_word_count|min_word_count|max_word_count|\n",
      "+----------+------------------+--------------+--------------+\n",
      "| 196374702| 1.504812188079094|             1|            18|\n",
      "+----------+------------------+--------------+--------------+\n",
      "\n"
     ]
    },
    {
     "name": "stderr",
     "output_type": "stream",
     "text": [
      "                                                                                \r"
     ]
    }
   ],
   "source": [
    "count_words_udf = udf(count_words, IntegerType())\n",
    "all_events_string = all_events_string.withColumn('WORD_COUNT', count_words_udf(all_events_string['VALUE']))\n",
    "\n",
    "all_events_string.show()\n",
    "\n",
    "word_count_stats = all_events_string.select(\n",
    "    count(\"*\").alias(\"total_rows\"),\n",
    "    avg(\"word_count\").alias(\"average_word_count\"),\n",
    "    min(\"word_count\").alias(\"min_word_count\"),\n",
    "    max(\"word_count\").alias(\"max_word_count\")\n",
    ")\n",
    "\n",
    "# Show the statistics\n",
    "word_count_stats.show()"
   ]
  }
 ],
 "metadata": {
  "kernelspec": {
   "display_name": "Python 3",
   "language": "python",
   "name": "python3"
  },
  "language_info": {
   "codemirror_mode": {
    "name": "ipython",
    "version": 3
   },
   "file_extension": ".py",
   "mimetype": "text/x-python",
   "name": "python",
   "nbconvert_exporter": "python",
   "pygments_lexer": "ipython3",
   "version": "3.9.16"
  }
 },
 "nbformat": 4,
 "nbformat_minor": 2
}
